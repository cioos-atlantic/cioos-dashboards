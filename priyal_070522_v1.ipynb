{
 "cells": [
  {
   "cell_type": "code",
   "execution_count": 1,
   "id": "27ca696e",
   "metadata": {},
   "outputs": [],
   "source": [
    "import pandas as pd\n",
    "import os\n",
    "import numpy as np\n",
    "import re"
   ]
  },
  {
   "cell_type": "code",
   "execution_count": 2,
   "id": "39a28d59",
   "metadata": {},
   "outputs": [
    {
     "name": "stdout",
     "output_type": "stream",
     "text": [
      "Requirement already satisfied: erddapy in /Users/priyalchotwani/opt/anaconda3/lib/python3.9/site-packages (1.2.1)\n",
      "Requirement already satisfied: pandas>=0.20.3 in /Users/priyalchotwani/opt/anaconda3/lib/python3.9/site-packages (from erddapy) (1.3.4)\n",
      "Requirement already satisfied: requests in /Users/priyalchotwani/opt/anaconda3/lib/python3.9/site-packages (from erddapy) (2.26.0)\n",
      "Requirement already satisfied: python-dateutil>=2.7.3 in /Users/priyalchotwani/opt/anaconda3/lib/python3.9/site-packages (from pandas>=0.20.3->erddapy) (2.8.2)\n",
      "Requirement already satisfied: pytz>=2017.3 in /Users/priyalchotwani/opt/anaconda3/lib/python3.9/site-packages (from pandas>=0.20.3->erddapy) (2021.3)\n",
      "Requirement already satisfied: numpy>=1.17.3 in /Users/priyalchotwani/opt/anaconda3/lib/python3.9/site-packages (from pandas>=0.20.3->erddapy) (1.20.3)\n",
      "Requirement already satisfied: six>=1.5 in /Users/priyalchotwani/opt/anaconda3/lib/python3.9/site-packages (from python-dateutil>=2.7.3->pandas>=0.20.3->erddapy) (1.16.0)\n",
      "Requirement already satisfied: idna<4,>=2.5 in /Users/priyalchotwani/opt/anaconda3/lib/python3.9/site-packages (from requests->erddapy) (3.2)\n",
      "Requirement already satisfied: certifi>=2017.4.17 in /Users/priyalchotwani/opt/anaconda3/lib/python3.9/site-packages (from requests->erddapy) (2021.10.8)\n",
      "Requirement already satisfied: urllib3<1.27,>=1.21.1 in /Users/priyalchotwani/opt/anaconda3/lib/python3.9/site-packages (from requests->erddapy) (1.26.7)\n",
      "Requirement already satisfied: charset-normalizer~=2.0.0 in /Users/priyalchotwani/opt/anaconda3/lib/python3.9/site-packages (from requests->erddapy) (2.0.4)\n",
      "Note: you may need to restart the kernel to use updated packages.\n"
     ]
    }
   ],
   "source": [
    "pip install erddapy"
   ]
  },
  {
   "cell_type": "code",
   "execution_count": 3,
   "id": "a9679c91",
   "metadata": {},
   "outputs": [],
   "source": [
    "from erddapy import ERDDAP"
   ]
  },
  {
   "cell_type": "code",
   "execution_count": 4,
   "id": "8dbf4e04",
   "metadata": {},
   "outputs": [],
   "source": [
    "IDlist = [\n",
    "            'FORCE_Mar2018_ADCP_Currents',\n",
    "    'FORCE_Mar2018_ADCP_Waves'\n",
    "   #'force_3b1e_d478_b537' 3rd Dataset whhich is not found in cioos erdapp \n",
    "]\n",
    "\n",
    "e = ERDDAP(server=\"https://dev.cioosatlantic.ca/erddap\",\n",
    "                 protocol=\"tabledap\", )\n",
    "e.auth = (\"cioosatlantic\", \"4oceans\")\n",
    "e.response = \"csv\""
   ]
  },
  {
   "cell_type": "code",
   "execution_count": 5,
   "id": "0fa2c620",
   "metadata": {},
   "outputs": [],
   "source": [
    "datasetdict = {}\n",
    "unitdict = {}"
   ]
  },
  {
   "cell_type": "code",
   "execution_count": 6,
   "id": "313ee3c8",
   "metadata": {},
   "outputs": [],
   "source": [
    "for val in IDlist:\n",
    "    e.dataset_id = val\n",
    "    e.constraints = { \"time<=\": \"2018-03-30T20:17:33Z\",\n",
    "                    }\n",
    "    df = e.to_pandas()\n",
    "    for col in df.columns:      \n",
    "        if len(df[col].unique()) == 1:          \n",
    "            df.drop([col], axis=1, inplace=True) \n",
    "    \n",
    "    variables = list(df.columns)\n",
    "    for i in range(len(variables)):\n",
    "        variables[i] =  re.sub(r'\\(.*?\\) *', '', variables[i])\n",
    "        \n",
    "    variablelist = list(df.columns)\n",
    "    newdict = dict(zip(variables, variablelist))\n",
    "    unitdict.update(newdict)\n",
    "    \n",
    "    for i in range(len(variables)):\n",
    "        datasetdict[variables[i]] = val\n",
    "del unitdict['time ']          "
   ]
  },
  {
   "cell_type": "code",
   "execution_count": 7,
   "id": "a66a0319",
   "metadata": {},
   "outputs": [],
   "source": [
    "def getdata(varname):\n",
    "    e = ERDDAP(server=\"https://dev.cioosatlantic.ca/erddap\",\n",
    "                 protocol=\"tabledap\", )\n",
    "    e.auth = (\"cioosatlantic\", \"4oceans\")\n",
    "    e.response = \"csv\"\n",
    "    e.dataset_id = datasetdict.get(varname)\n",
    "    e.variables = ['time', varname]\n",
    "    e.constraints = {\"time<=\": \"2018-05-23T17:47:30Z\", \"time>=\": '2018-03-30T20:02:33Z'}\n",
    "    df = e.to_pandas()\n",
    "    df = df.sort_values(by=['time (UTC)'])\n",
    "    df['time (UTC)'] = pd.to_datetime(df['time (UTC)'], format=\"%Y-%m-%dT%H:%M:%SZ\")\n",
    "    df = df.set_index(df['time (UTC)'].astype(np.datetime64))\n",
    "    if varname == 'eastward_sea_water_velocity ' or 'upward_sea_water_velocity ' or 'northward_sea_water_velocity ':\n",
    "        df = df[df[unitdict[varname]] !=0]\n",
    "    if varname == 'sea_surface_wave_maximum_period ':\n",
    "        df = df[df[unitdict[varname]] !=-9]\n",
    "    return df"
   ]
  },
  {
   "cell_type": "code",
   "execution_count": null,
   "id": "e39dd193",
   "metadata": {
    "scrolled": false
   },
   "outputs": [],
   "source": [
    "import datetime as dt\n",
    "from django.urls import include, re_path\n",
    "import hvplot.pandas\n",
    "import panel as pn\n",
    "from holoviews import opts\n",
    "import datashader as ds\n",
    "import holoviews.operation.datashader as hd\n",
    "from bokeh.models.formatters import DatetimeTickFormatter\n",
    "import holoviews as hv"
   ]
  },
  {
   "cell_type": "code",
   "execution_count": null,
   "id": "30155cf9",
   "metadata": {},
   "outputs": [],
   "source": []
  }
 ],
 "metadata": {
  "kernelspec": {
   "display_name": "Python 3 (ipykernel)",
   "language": "python",
   "name": "python3"
  },
  "language_info": {
   "codemirror_mode": {
    "name": "ipython",
    "version": 3
   },
   "file_extension": ".py",
   "mimetype": "text/x-python",
   "name": "python",
   "nbconvert_exporter": "python",
   "pygments_lexer": "ipython3",
   "version": "3.9.7"
  }
 },
 "nbformat": 4,
 "nbformat_minor": 5
}
